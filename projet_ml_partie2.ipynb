{
  "cells": [
    {
      "cell_type": "markdown",
      "metadata": {
        "id": "Zb8AurMoK0Rf"
      },
      "source": [
        "### Consignes Partie II\n",
        "\n",
        "[NNI](https://github.com/microsoft/nni/blob/master/README.md) est une boîte à outils AutoML gratuite et open source développée par Microsoft. Celle-ci permet de facilement utiliser des outils classiques d'hyperparamétrage pour rendre le plus efficace possible les algorithmes. Ici, nous nous intéresserons au jeu de données [Fashion-MNIST](https://github.com/zalandoresearch/fashion-mnist) et à Keras, une bibliothèque opensource écrite en python et permettant d'utiliser des algorithmes d'apprentissage automatique.\n",
        "\n",
        "> A rendre pour le mardi 11 janvier 8h"
      ]
    },
    {
      "cell_type": "markdown",
      "metadata": {
        "id": "Mo3xhkyRskfl"
      },
      "source": [
        "## Liens utilisés\n",
        "\n",
        "- https://machinelearningmastery.com/how-to-develop-a-cnn-from-scratch-for-fashion-mnist-clothing-classification/\n",
        "- https://larevueia.fr/tensorflow/\n",
        "- https://www.tensorflow.org/tutorials/keras/classification\n",
        "- https://ichi.pro/fr/automl-reglage-des-hyperparametres-avec-nni-et-keras-281195637245647"
      ]
    },
    {
      "cell_type": "markdown",
      "metadata": {
        "id": "WjfGqWwK767J"
      },
      "source": [
        "## Mise en place des outils nécessaires (sur machine locale, ne pas tenir compte de cette partie)"
      ]
    },
    {
      "cell_type": "markdown",
      "metadata": {
        "id": "V_OVglHaUp8x"
      },
      "source": [
        "### Sauvegarde data"
      ]
    },
    {
      "cell_type": "markdown",
      "metadata": {
        "id": "h7tX-jusUxuK"
      },
      "source": [
        "#### Monter google drive"
      ]
    },
    {
      "cell_type": "code",
      "execution_count": null,
      "metadata": {
        "colab": {
          "base_uri": "https://localhost:8080/"
        },
        "id": "FBbwZ7y06Fl-",
        "outputId": "d5fe970d-64e7-4023-d184-16710a231bd6"
      },
      "outputs": [],
      "source": [
        "from google.colab import drive\n",
        "drive.mount('/content/drive')"
      ]
    },
    {
      "cell_type": "markdown",
      "metadata": {
        "id": "0kSTdagsU1jm"
      },
      "source": [
        "#### Sauvegarder dans google drive"
      ]
    },
    {
      "cell_type": "code",
      "execution_count": 3,
      "metadata": {
        "id": "Bntepj7FVN4u"
      },
      "outputs": [],
      "source": [
        "! cp -r /content/drive/MyDrive/ml /content/\n",
        "! cp -r /content/drive/MyDrive/.ngrok2/ /content/"
      ]
    },
    {
      "cell_type": "markdown",
      "metadata": {
        "id": "aTmXm5KqVKky"
      },
      "source": [
        "#### Restaurer data depuis google drive"
      ]
    },
    {
      "cell_type": "code",
      "execution_count": 4,
      "metadata": {
        "id": "IPs0b5EIU4OG"
      },
      "outputs": [],
      "source": [
        "! cp -r ml /content/drive/MyDrive\n",
        "! cp -r .ngrok2/ /content/drive/MyDrive/"
      ]
    },
    {
      "cell_type": "markdown",
      "metadata": {
        "id": "12-VMLry8PIW"
      },
      "source": [
        "### intallation de ngrok\n",
        "Par défaut on n'a pas accès à l'adresse interne du colab. Cet outil va donc nous permettre par un mécanisme de reverse proxy d'obtenir une ip pour nni."
      ]
    },
    {
      "cell_type": "code",
      "execution_count": null,
      "metadata": {
        "id": "2MmPDHOg7oWb"
      },
      "outputs": [],
      "source": [
        "! wget -q -nc https://bin.equinox.io/c/4VmDzA7iaHb/ngrok-stable-linux-amd64.zip\n",
        "! unzip -qq ngrok-stable-linux-amd64.zip"
      ]
    },
    {
      "cell_type": "markdown",
      "metadata": {
        "id": "ignUt2BbANGP"
      },
      "source": [
        "### clonage du projet depuis github ou drive"
      ]
    },
    {
      "cell_type": "code",
      "execution_count": null,
      "metadata": {
        "id": "cINmcnXj7usN"
      },
      "outputs": [],
      "source": [
        "! cp -r /content/drive/MyDrive/ml /content/\n",
        "! cp -r /content/drive/MyDrive/.ngrok2/ /content/"
      ]
    },
    {
      "cell_type": "markdown",
      "metadata": {
        "id": "MyOJszz8tFVO"
      },
      "source": [
        "### Installation des librairiries nécessaires"
      ]
    },
    {
      "cell_type": "code",
      "execution_count": null,
      "metadata": {
        "colab": {
          "base_uri": "https://localhost:8080/"
        },
        "id": "4KGLIsU7tEhV",
        "outputId": "906da0c5-bec9-44e8-a68a-27ceb51e4dd3"
      },
      "outputs": [],
      "source": [
        "! pip install --quiet -r ml/requirements.txt"
      ]
    },
    {
      "cell_type": "markdown",
      "metadata": {
        "id": "fT_EjmqB-Lhd"
      },
      "source": [
        "### Authentification ngrok"
      ]
    },
    {
      "cell_type": "code",
      "execution_count": null,
      "metadata": {
        "colab": {
          "base_uri": "https://localhost:8080/"
        },
        "id": "Kxy330Gz-CIC",
        "outputId": "80ba257e-0499-4888-bdd0-05084cf654a3"
      },
      "outputs": [
        {
          "name": "stdout",
          "output_type": "stream",
          "text": [
            "Authtoken saved to configuration file: /root/.ngrok2/ngrok.yml\n"
          ]
        }
      ],
      "source": [
        "! ./ngrok authtoken API_KEY"
      ]
    },
    {
      "cell_type": "markdown",
      "metadata": {
        "id": "FIWN3o0v-l04"
      },
      "source": [
        "### Lancement de nni avec ngrok"
      ]
    },
    {
      "cell_type": "code",
      "execution_count": null,
      "metadata": {
        "colab": {
          "base_uri": "https://localhost:8080/"
        },
        "id": "Ehijjddx-QUf",
        "outputId": "eaf6977a-abdc-4449-be62-03dcbc128463"
      },
      "outputs": [],
      "source": [
        "! nnictl stop; sleep 5; nnictl create --config ml/src/config.yml --port 5000 &\n",
        "get_ipython().system_raw('./ngrok http 5000 &')"
      ]
    },
    {
      "cell_type": "markdown",
      "metadata": {
        "id": "7zRXAyJf_ynJ"
      },
      "source": [
        "### recupération de l'ip public"
      ]
    },
    {
      "cell_type": "code",
      "execution_count": null,
      "metadata": {
        "colab": {
          "base_uri": "https://localhost:8080/"
        },
        "id": "HehFGFhi-tMY",
        "outputId": "47b52e9c-59cc-404a-8cf9-46201e85f267"
      },
      "outputs": [],
      "source": [
        "! curl -s http://localhost:4040/api/tunnels | python -m json.tool | grep 'public_url'"
      ]
    },
    {
      "cell_type": "code",
      "execution_count": null,
      "metadata": {
        "colab": {
          "base_uri": "https://localhost:8080/"
        },
        "id": "mVknIqjWAKEj",
        "outputId": "d3830a59-8ec6-4332-aede-9f7f30e00cf9"
      },
      "outputs": [],
      "source": [
        "! nnictl create --config ml/src/config.yml --port 5000 &\n",
        "get_ipython().system_raw('./ngrok http 5000 &')\n",
        "# ne pas changer le port 4040, c'est le port interne de ngrok\n",
        "! curl -s http://localhost:4040/api/tunnels | python -m json.tool | grep 'public_url'"
      ]
    },
    {
      "cell_type": "markdown",
      "metadata": {
        "id": "l8RdAsohAFXr"
      },
      "source": [
        "### Arrêt du serveur"
      ]
    },
    {
      "cell_type": "code",
      "execution_count": null,
      "metadata": {
        "colab": {
          "base_uri": "https://localhost:8080/"
        },
        "id": "sHN3hatYAHUS",
        "outputId": "0ccc466a-90c4-4216-830d-2cf6e3486381"
      },
      "outputs": [],
      "source": [
        "! nnictl stop"
      ]
    },
    {
      "cell_type": "markdown",
      "metadata": {
        "id": "IZlPZrRO7zhs"
      },
      "source": [
        "## Description brève du jeu de données Fashion-MNIST\n",
        "\n",
        "NNI propose un [tutoriel](https://github.com/microsoft/nni/tree/master/examples/trials/mnist-keras) permettant son utilisation pour la résolution du jeu de données MNIST initial (équivalent au jeu de données digits).\n",
        "\n",
        "## Utiliser NNI et Keras pour construire un réseau de neurones efficace pour le jeu de données Fashion-MNIST : \n",
        "\n",
        "décrire le réseau de neurones utilisé, les hyperparamètres à instancier, le protocole d'hyperparamétrage et les résultats obtenus"
      ]
    },
    {
      "cell_type": "markdown",
      "metadata": {
        "id": "b3wEfT4X7zeb"
      },
      "source": [
        "Avant de continuer s'assurer d'avoir installer les libraries suivantes et pour `matplotlib` la version `3.1.1` qui semble la seule fonctionner chez moi pour générer les graphiques.\n",
        "```\n",
        "matplotlib==3.1.1\n",
        "nni==2.5\n",
        "tensorflow==2.7.0\n",
        "```\n",
        "\n",
        "si projet importé depuis le lien github. `git clone https://github.com/uNouss/projetML; cd projetML`.\n",
        "\n",
        "L'installation se fait comme suit:\n",
        "\n",
        "1. création d'un nouvelle environnement virtuelle  nommé `.venv` (facultative): `python3 -m venv .venv`; suivi de son activation: `source .venv/bin/activate`.\n",
        "2. installation des libraries: `pip install -r requirements.txt` si un nouvelle environnement est crée sinon `python3 -m pip install -r requirements.txt`.\n",
        "\n",
        "3. une fois les installations faites lancer **NNI** comme suit: `nnictl create --config src/config.yml -p 8080` et ouvrir l'url produite par cette commande, [127.1:8080](http://127.1:8080). Il lancera le script python situé dans `src/mnist-fashion.py` avec le fichier contenant l'espace de recherche `src/search_space.json` dans lequel sont défini les hyperparamètres."
      ]
    },
    {
      "cell_type": "markdown",
      "metadata": {
        "id": "GLj0g5OyBazb"
      },
      "source": [
        "### Chargement des données mnist-fashion depuis tensorflow"
      ]
    },
    {
      "cell_type": "code",
      "execution_count": 7,
      "metadata": {
        "id": "sX4lfGaE0s4O"
      },
      "outputs": [],
      "source": [
        "import matplotlib.pyplot as plt\n",
        "import tensorflow as tf\n",
        "import numpy as np\n",
        "import nni"
      ]
    },
    {
      "cell_type": "code",
      "execution_count": 8,
      "metadata": {
        "id": "bVXfb_N_Aa2t"
      },
      "outputs": [],
      "source": [
        "fashion_mnist = tf.keras.datasets.fashion_mnist\n",
        "(X_train, Y_train), (X_test, Y_test) = fashion_mnist.load_data()\n",
        "\n",
        "fashion_mnist = tf.keras.datasets.fashion_mnist\n",
        "(images_train, targets_train), (images_test, targets_test) = tf.keras.datasets.fashion_mnist.load_data()"
      ]
    },
    {
      "cell_type": "code",
      "execution_count": 9,
      "metadata": {
        "id": "UxGkqvlyBGnS"
      },
      "outputs": [],
      "source": [
        "targets_train, targets_test = targets_train.reshape(targets_train.shape[0], 1), targets_test.reshape(targets_test.shape[0], 1)"
      ]
    },
    {
      "cell_type": "code",
      "execution_count": 10,
      "metadata": {
        "colab": {
          "base_uri": "https://localhost:8080/"
        },
        "id": "EP-kdJdmBJLn",
        "outputId": "70153d66-c886-492d-f917-d1ba0fe31190"
      },
      "outputs": [
        {
          "name": "stdout",
          "output_type": "stream",
          "text": [
            "Fashion MNIST Dataset Shape:\n",
            "images_train: (60000, 28, 28)\n",
            "targets_train: (60000, 1)\n",
            "images_test:  (10000, 28, 28)\n",
            "targets_test:  (10000, 1)\n"
          ]
        }
      ],
      "source": [
        "print('Fashion MNIST Dataset Shape:')\n",
        "print(f'images_train: {images_train.shape}')\n",
        "print(f'targets_train: {targets_train.shape}')\n",
        "print(f'images_test:  {images_test.shape}')\n",
        "print(f'targets_test:  {targets_test.shape}')"
      ]
    },
    {
      "cell_type": "markdown",
      "metadata": {
        "id": "EKAkVyjoCmeA"
      },
      "source": [
        "Nous avons un jeu de données composés d'images de tailles 28x28, labelisées. Il se décompose comme suit:\n",
        "- 60 000 en donnée d'entrainement et 10 000 en données de tests.\n",
        "- les images_train et images_test contiennent les images;\n",
        "- les targets_train et targets_test contiennent les labels des images.\n",
        "\n",
        "Il existe 10 labels différents qui sont:\n",
        "\n",
        "|Label|\tDescription|\n",
        "|:----|:-----------|\n",
        "|0\t  |T-shirt     |\n",
        "|1\t  |Pantalon     |\n",
        "|2\t  |Pull    |\n",
        "|3\t  |Robe       |\n",
        "|4\t  |Manteau        |\n",
        "|5\t  |Sandale      |\n",
        "|6\t  |Chemise       |\n",
        "|7\t  |Sneaker     |\n",
        "|8\t  |Sac        |\n",
        "|9\t  |Bottes  |\n",
        "\n"
      ]
    },
    {
      "cell_type": "markdown",
      "metadata": {
        "id": "NC-czPesFocl"
      },
      "source": [
        "### Affichage de quelques images du jeu de données d'entrainement."
      ]
    },
    {
      "cell_type": "code",
      "execution_count": 17,
      "metadata": {
        "colab": {
          "base_uri": "https://localhost:8080/",
          "height": 1000
        },
        "id": "HALE6JoQGhQw",
        "outputId": "5409e9f5-2b3f-4bbd-9ab1-ff48962a0646"
      },
      "outputs": [
        {
          "data": {
            "image/png": "[encoded data removed]",
            "text/plain": [
              "<Figure size 1500x1000 with 25 Axes>"
            ]
          },
          "metadata": {},
          "output_type": "display_data"
        }
      ],
      "source": [
        "targets_names = [\"T-shirt\", \"Pantalon\", \"Pull\", \"Robe\", \"Manteau\", \"Sandale\", \"Chemise\", \"Sneaker\", \"Sac\", \"Bottes\"]\n",
        "\n",
        "plt.figure(figsize=(15, 10), dpi=100)\n",
        "\n",
        "for i in range(25):\n",
        "    plt.subplot(5, 5, i+1)\n",
        "    plt.xticks([])\n",
        "    plt.yticks([])\n",
        "    plt.grid(False)\n",
        "    plt.imshow(images_train[i], cmap=plt.cm.binary)\n",
        "    plt.xlabel(targets_names[targets_train[i][0]])\n",
        "plt.tight_layout()\n",
        "plt.show()"
      ]
    },
    {
      "cell_type": "markdown",
      "metadata": {
        "id": "tw-jVIVCsTeK"
      },
      "source": [
        "### Repartitions des catégories et fréquences d'apparitions"
      ]
    },
    {
      "cell_type": "code",
      "execution_count": 18,
      "metadata": {
        "colab": {
          "base_uri": "https://localhost:8080/",
          "height": 297
        },
        "id": "O7_zXjC50hkv",
        "outputId": "f4cd44ef-8236-4ce7-9784-53d7d1d11c36"
      },
      "outputs": [
        {
          "data": {
            "image/png": "[encoded data removed]",
            "text/plain": [
              "<Figure size 432x288 with 1 Axes>"
            ]
          },
          "metadata": {},
          "output_type": "display_data"
        }
      ],
      "source": [
        "sizes = np.unique(targets_train, return_counts=True)[1]\n",
        "\n",
        "# Choix des couleurs\n",
        "colors = ['#fff100','#ff8c00','#e81123','#ec008c','#68217a', '#00188f', '#00bcf2','#00b294','#009e49','#bad80a']\n",
        "\n",
        "# Construction du diagramme et affichage des labels et des #fréquences en pourcentage\n",
        "fig1, ax1 = plt.subplots()\n",
        "ax1.pie(sizes, colors = colors, labels=targets_names, autopct='%1.1f%%', startangle=90)\n",
        "\n",
        "# Tracé du cercle au milieu\n",
        "centre_circle = plt.Circle((0,0),0.70,fc='white')\n",
        "fig = plt.gcf()\n",
        "fig.gca().add_artist(centre_circle)\n",
        "\n",
        "# Affichage du diagramme\n",
        "ax1.axis('equal')  \n",
        "plt.tight_layout()\n",
        "plt.show()"
      ]
    },
    {
      "cell_type": "markdown",
      "metadata": {
        "id": "hM9m76UluVTt"
      },
      "source": [
        "Nous constatons que les classes sont bien équilibrées. On peut donc utiliser l'`accuracy` comme mesure d'évaluation.\n",
        "\n",
        "\n"
      ]
    },
    {
      "cell_type": "markdown",
      "metadata": {
        "id": "VjG5_WspuVOf"
      },
      "source": [
        "## Description du reseau de neurones\n",
        "\n",
        "\n"
      ]
    },
    {
      "cell_type": "markdown",
      "metadata": {
        "id": "uFPaprBd4S4z"
      },
      "source": [
        "![archi-reseau](img/archi-reseau.png)\n",
        "\n",
        "Figure: Architecture du réseau de neurone que nous avons essayé de reproduire (extrait du diapo)"
      ]
    },
    {
      "cell_type": "markdown",
      "metadata": {
        "id": "DvIZ1sxwu2_i"
      },
      "source": [
        "#### Construction du modèle\n",
        "\n",
        "\n",
        "Le code se trouve ici : [projet github](https://github.com/uNouss/projetML)\n",
        "\n",
        "Nous allons faire un réseau de neurones composé de couches simples.\n",
        "\n",
        " 1. Nous avons une première couche de convolution. Suivi d'une couche de pooling puis d'une autre couche de convolution. Ces trois premières couches vont permettre au reseau d'apprendre les caractéristiques intéressantes pour pouvoir discriminer les classes;\n",
        " 2. une couche qui s'occupe d'applatir les images issues de la convolution et de les transformer en un vecteur pour preparer aux calculs suivants;\n",
        " 3. une couche \"fully connected\" qui a comme entrée la sortie de la couche de l'étape precedente et comme sortie un vecteur de taille t neurones que nous ferons varier avec l'espace de recherche, suivi d'une fonction d'activation de type `relu`;\n",
        " 4. La dernière de même nature que la précedente va nous permettre d'avoir la classe à laquelle correspond une image. Donc en sortie on aura un vecteur de taille 10 correspondant aux probabilités que l'image appartienne à chacune des classes.\n",
        "\n",
        "Nous ferons aussi varier la méthode utilisée pour optimiser le reseau ( descente du gradient, adam)."
      ]
    },
    {
      "cell_type": "markdown",
      "metadata": {
        "id": "cDTGmqfvACj0"
      },
      "source": [
        "#### Espace de recherche\n",
        "\n",
        "Nous avons défini des hyperparamètres pour notre modèle. Nous faisons varier la méthode d'optimisation, le coefficient d'apprentissage, et le nombre de neurones de la couche dense.\n",
        "\n",
        "```json\n",
        "{\n",
        "    \"optimizer\": {\"_type\": \"choice\",\"_value\": [\"SGD\", \"Adam\"]},\n",
        "    \"learning_rate\": {\"_type\": \"quniform\",\"_value\": [0.001, 0.05, 0.01]},\n",
        "    \"nb_nodes\": {\"_type\": \"choice\", \"_value\": [64, 128, 256, 512]},\n",
        "}\n",
        "```\n",
        "\n",
        "Nous avons choisi de ne pas manipuler d'autres hyperparametres compte tenu du fait que nos machines ne tiennent pas la charge.\n",
        "\n",
        "\n"
      ]
    },
    {
      "cell_type": "markdown",
      "metadata": {
        "id": "SF7vIbpAAoaQ"
      },
      "source": [
        "#### Modèle obtenu\n",
        "\n",
        "Le modèle ayant la meilleure accuracy (0.9196) est celui qui utilise les hyperparamètres suivants: \n",
        "\n",
        "![meilleur accuracy](img/output-nni.png)\n",
        "Figure: ligne ayant la meilleur performance (en l'état actuelle de l'éxecution, après 13 itérations, nous avons mis 100 à peu près)\n",
        "\n",
        "dont les détails sont les suivantes.\n",
        "```json\n",
        "{\n",
        "    \"optimizer\": \"Adam\",\n",
        "    \"learning_rate\": 0.001,\n",
        "    \"nb_nodes\": 128,\n",
        "    \"metrics\": \"accuracy\",\n",
        "    \"activation_function\": \"relu\"\n",
        "}\n",
        "```\n",
        "\n",
        "Nous avons perdu la connexion au serveur avant que les calculs soient terminés.\n"
      ]
    }
  ],
  "metadata": {
    "accelerator": "GPU",
    "colab": {
      "collapsed_sections": [],
      "name": "projet-ml_partie2.ipynb",
      "provenance": []
    },
    "kernelspec": {
      "display_name": "Python 3",
      "name": "python3"
    },
    "language_info": {
      "codemirror_mode": {
        "name": "ipython",
        "version": 3
      },
      "file_extension": ".py",
      "mimetype": "text/x-python",
      "name": "python",
      "nbconvert_exporter": "python",
      "pygments_lexer": "ipython3",
      "version": "3.9.2"
    }
  },
  "nbformat": 4,
  "nbformat_minor": 0
}
