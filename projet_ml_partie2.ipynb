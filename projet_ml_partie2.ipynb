{
  "nbformat": 4,
  "nbformat_minor": 0,
  "metadata": {
    "colab": {
      "name": "projet-ml_partie2.ipynb",
      "provenance": [],
      "collapsed_sections": []
    },
    "kernelspec": {
      "name": "python3",
      "display_name": "Python 3"
    },
    "language_info": {
      "name": "python"
    },
    "accelerator": "GPU"
  },
  "cells": [
    {
      "cell_type": "markdown",
      "source": [
        "### Consignes Partie II\n",
        "\n",
        "[NNI](https://github.com/microsoft/nni/blob/master/README.md) est une boîte à outils AutoML gratuite et open source développée par Microsoft. Celle-ci permet de facilement utiliser des outils classiques d'hyperparamétrage pour rendre le plus efficace possible les algorithmes. Ici, nous nous intéresserons au jeu de données [Fashion-MNIST](https://github.com/zalandoresearch/fashion-mnist) et à Keras, une bibliothèque opensource écrite en python et permettant d'utiliser des algorithmes d'apprentissage automatique.\n",
        "\n",
        "> A rendre pour le mardi 11 janvier 8h"
      ],
      "metadata": {
        "id": "Zb8AurMoK0Rf"
      }
    },
    {
      "cell_type": "markdown",
      "source": [
        "## Liens utilisés\n",
        "\n",
        "- https://machinelearningmastery.com/how-to-develop-a-cnn-from-scratch-for-fashion-mnist-clothing-classification/\n",
        "- https://larevueia.fr/tensorflow/\n",
        "- https://www.tensorflow.org/tutorials/keras/classification\n",
        "- https://ichi.pro/fr/automl-reglage-des-hyperparametres-avec-nni-et-keras-281195637245647"
      ],
      "metadata": {
        "id": "Mo3xhkyRskfl"
      }
    },
    {
      "cell_type": "markdown",
      "source": [
        "## Mise en place des outils nécessaires (sur machine locale, ne pas tenir compte de cette partie)"
      ],
      "metadata": {
        "id": "WjfGqWwK767J"
      }
    },
    {
      "cell_type": "markdown",
      "source": [
        "### Sauvegarde data"
      ],
      "metadata": {
        "id": "V_OVglHaUp8x"
      }
    },
    {
      "cell_type": "markdown",
      "source": [
        "#### Monter google drive"
      ],
      "metadata": {
        "id": "h7tX-jusUxuK"
      }
    },
    {
      "cell_type": "code",
      "source": [
        "from google.colab import drive\n",
        "drive.mount('/content/drive')"
      ],
      "metadata": {
        "colab": {
          "base_uri": "https://localhost:8080/"
        },
        "id": "FBbwZ7y06Fl-",
        "outputId": "d5fe970d-64e7-4023-d184-16710a231bd6"
      },
      "execution_count": 2,
      "outputs": [
        {
          "output_type": "stream",
          "name": "stdout",
          "text": [
            "Drive already mounted at /content/drive; to attempt to forcibly remount, call drive.mount(\"/content/drive\", force_remount=True).\n"
          ]
        }
      ]
    },
    {
      "cell_type": "markdown",
      "source": [
        "#### Sauvegarder dans google drive"
      ],
      "metadata": {
        "id": "0kSTdagsU1jm"
      }
    },
    {
      "cell_type": "code",
      "source": [
        "! cp -r /content/drive/MyDrive/ml /content/\n",
        "! cp -r /content/drive/MyDrive/.ngrok2/ /content/"
      ],
      "metadata": {
        "id": "Bntepj7FVN4u"
      },
      "execution_count": 3,
      "outputs": []
    },
    {
      "cell_type": "markdown",
      "source": [
        "#### Restaurer data depuis google drive"
      ],
      "metadata": {
        "id": "aTmXm5KqVKky"
      }
    },
    {
      "cell_type": "code",
      "source": [
        "! cp -r ml /content/drive/MyDrive\n",
        "! cp -r .ngrok2/ /content/drive/MyDrive/"
      ],
      "metadata": {
        "id": "IPs0b5EIU4OG"
      },
      "execution_count": 4,
      "outputs": []
    },
    {
      "cell_type": "markdown",
      "source": [
        "### intallation de ngrok\n",
        "Par défaut on n'a pas accès à l'adresse interne du colab. Cet outil va donc nous permettre par un mécanisme de reverse proxy d'obtenir une ip pour nni."
      ],
      "metadata": {
        "id": "12-VMLry8PIW"
      }
    },
    {
      "cell_type": "code",
      "source": [
        "! wget -q -nc https://bin.equinox.io/c/4VmDzA7iaHb/ngrok-stable-linux-amd64.zip\n",
        "! unzip -qq ngrok-stable-linux-amd64.zip"
      ],
      "metadata": {
        "id": "2MmPDHOg7oWb"
      },
      "execution_count": null,
      "outputs": []
    },
    {
      "cell_type": "markdown",
      "source": [
        "### clonage du projet depuis github ou drive"
      ],
      "metadata": {
        "id": "ignUt2BbANGP"
      }
    },
    {
      "cell_type": "code",
      "source": [
        "! cp -r /content/drive/MyDrive/ml /content/\n",
        "! cp -r /content/drive/MyDrive/.ngrok2/ /content/"
      ],
      "metadata": {
        "id": "cINmcnXj7usN"
      },
      "execution_count": null,
      "outputs": []
    },
    {
      "cell_type": "markdown",
      "source": [
        "### Installation des librairiries nécessaires"
      ],
      "metadata": {
        "id": "MyOJszz8tFVO"
      }
    },
    {
      "cell_type": "code",
      "source": [
        "! pip install --quiet -r ml/requirements.txt"
      ],
      "metadata": {
        "id": "4KGLIsU7tEhV",
        "colab": {
          "base_uri": "https://localhost:8080/"
        },
        "outputId": "906da0c5-bec9-44e8-a68a-27ceb51e4dd3"
      },
      "execution_count": null,
      "outputs": [
        {
          "output_type": "stream",
          "name": "stdout",
          "text": [
            "\u001b[K     |████████████████████████████████| 55.2 MB 27 kB/s \n",
            "\u001b[K     |████████████████████████████████| 13.1 MB 23.0 MB/s \n",
            "\u001b[K     |████████████████████████████████| 596 kB 43.3 MB/s \n",
            "\u001b[K     |████████████████████████████████| 111 kB 53.8 MB/s \n",
            "\u001b[K     |████████████████████████████████| 130 kB 51.3 MB/s \n",
            "\u001b[K     |████████████████████████████████| 127 kB 45.3 MB/s \n",
            "\u001b[31mERROR: pip's dependency resolver does not currently take into account all the packages that are installed. This behaviour is the source of the following dependency conflicts.\n",
            "datascience 0.10.6 requires folium==0.2.1, but you have folium 0.8.3 which is incompatible.\n",
            "albumentations 0.1.12 requires imgaug<0.2.7,>=0.2.5, but you have imgaug 0.2.9 which is incompatible.\u001b[0m\n",
            "\u001b[?25h"
          ]
        }
      ]
    },
    {
      "cell_type": "markdown",
      "source": [
        "### Authentification ngrok"
      ],
      "metadata": {
        "id": "fT_EjmqB-Lhd"
      }
    },
    {
      "cell_type": "code",
      "source": [
        "! ./ngrok authtoken 23StGp5LuN7YCD4xVO7ob1AeVY3_Swiogije3Xnj1SQ3QS4"
      ],
      "metadata": {
        "colab": {
          "base_uri": "https://localhost:8080/"
        },
        "id": "Kxy330Gz-CIC",
        "outputId": "80ba257e-0499-4888-bdd0-05084cf654a3"
      },
      "execution_count": null,
      "outputs": [
        {
          "output_type": "stream",
          "name": "stdout",
          "text": [
            "Authtoken saved to configuration file: /root/.ngrok2/ngrok.yml\n"
          ]
        }
      ]
    },
    {
      "cell_type": "markdown",
      "source": [
        "### Lancement de nni avec ngrok"
      ],
      "metadata": {
        "id": "FIWN3o0v-l04"
      }
    },
    {
      "cell_type": "code",
      "source": [
        "! nnictl stop; sleep 5; nnictl create --config ml/src/config.yml --port 5000 &\n",
        "get_ipython().system_raw('./ngrok http 5000 &')"
      ],
      "metadata": {
        "colab": {
          "base_uri": "https://localhost:8080/"
        },
        "id": "Ehijjddx-QUf",
        "outputId": "eaf6977a-abdc-4449-be62-03dcbc128463"
      },
      "execution_count": null,
      "outputs": [
        {
          "output_type": "stream",
          "name": "stdout",
          "text": [
            "INFO: \u001b[0m \u001b[0mExperiment is not running...\u001b[0m\n",
            "\u001b[0m\u001b[0mINFO: \u001b[0m \u001b[0mexpand searchSpacePath: search_space.json to /content/ml/src/search_space.json \u001b[0m\n",
            "\u001b[0mINFO: \u001b[0m \u001b[0mexpand codeDir: . to /content/ml/src/. \u001b[0m\n",
            "\u001b[0mINFO: \u001b[0m \u001b[0mStarting restful server...\u001b[0m\n",
            "\u001b[0mINFO: \u001b[0m \u001b[0mSuccessfully started Restful server!\u001b[0m\n",
            "\u001b[0mINFO: \u001b[0m \u001b[0mStarting experiment...\u001b[0m\n",
            "\u001b[0mINFO: \u001b[0m \u001b[0m\u001b[32mSuccessfully started experiment!\n",
            "\u001b[39m------------------------------------------------------------------------------------\n",
            "The experiment id is c2eFCxdD\n",
            "The Web UI urls are: http://127.0.0.1:5000   http://172.28.0.2:5000\n",
            "------------------------------------------------------------------------------------\n",
            "\n",
            "You can use these commands to get more information about the experiment\n",
            "------------------------------------------------------------------------------------\n",
            "         commands                       description\n",
            "1. nnictl experiment show        show the information of experiments\n",
            "2. nnictl trial ls               list all of trial jobs\n",
            "3. nnictl top                    monitor the status of running experiments\n",
            "4. nnictl log stderr             show stderr log content\n",
            "5. nnictl log stdout             show stdout log content\n",
            "6. nnictl stop                   stop an experiment\n",
            "7. nnictl trial kill             kill a trial job by id\n",
            "8. nnictl --help                 get help information about nnictl\n",
            "------------------------------------------------------------------------------------\n",
            "Command reference document https://nni.readthedocs.io/en/latest/Tutorial/Nnictl.html\n",
            "------------------------------------------------------------------------------------\n",
            "\u001b[0m\n",
            "\u001b[0m\u001b[0m"
          ]
        }
      ]
    },
    {
      "cell_type": "markdown",
      "source": [
        "### recupération de l'ip public"
      ],
      "metadata": {
        "id": "7zRXAyJf_ynJ"
      }
    },
    {
      "cell_type": "code",
      "source": [
        "! curl -s http://localhost:4040/api/tunnels | python -m json.tool | grep 'public_url'"
      ],
      "metadata": {
        "id": "HehFGFhi-tMY",
        "colab": {
          "base_uri": "https://localhost:8080/"
        },
        "outputId": "47b52e9c-59cc-404a-8cf9-46201e85f267"
      },
      "execution_count": null,
      "outputs": [
        {
          "output_type": "stream",
          "name": "stdout",
          "text": [
            "Expecting value: line 1 column 1 (char 0)\n"
          ]
        }
      ]
    },
    {
      "cell_type": "code",
      "source": [
        "! nnictl create --config ml/src/config.yml --port 5000 &\n",
        "get_ipython().system_raw('./ngrok http 5000 &')\n",
        "! curl -s http://localhost:4040/api/tunnels | python -m json.tool | grep 'public_url'"
      ],
      "metadata": {
        "id": "mVknIqjWAKEj",
        "colab": {
          "base_uri": "https://localhost:8080/"
        },
        "outputId": "d3830a59-8ec6-4332-aede-9f7f30e00cf9"
      },
      "execution_count": null,
      "outputs": [
        {
          "output_type": "stream",
          "name": "stdout",
          "text": [
            "INFO: \u001b[0m \u001b[0mexpand searchSpacePath: search_space.json to /content/ml/src/search_space.json \u001b[0m\n",
            "\u001b[0mINFO: \u001b[0m \u001b[0mexpand codeDir: . to /content/ml/src/. \u001b[0m\n",
            "\u001b[0mINFO: \u001b[0m \u001b[0mStarting restful server...\u001b[0m\n",
            "\u001b[0mINFO: \u001b[0m \u001b[0mSuccessfully started Restful server!\u001b[0m\n",
            "\u001b[0mINFO: \u001b[0m \u001b[0mStarting experiment...\u001b[0m\n",
            "\u001b[0mINFO: \u001b[0m \u001b[0m\u001b[32mSuccessfully started experiment!\n",
            "\u001b[39m------------------------------------------------------------------------------------\n",
            "The experiment id is mgkbuWEf\n",
            "The Web UI urls are: http://127.0.0.1:5000   http://172.28.0.2:5000\n",
            "------------------------------------------------------------------------------------\n",
            "\n",
            "You can use these commands to get more information about the experiment\n",
            "------------------------------------------------------------------------------------\n",
            "         commands                       description\n",
            "1. nnictl experiment show        show the information of experiments\n",
            "2. nnictl trial ls               list all of trial jobs\n",
            "3. nnictl top                    monitor the status of running experiments\n",
            "4. nnictl log stderr             show stderr log content\n",
            "5. nnictl log stdout             show stdout log content\n",
            "6. nnictl stop                   stop an experiment\n",
            "7. nnictl trial kill             kill a trial job by id\n",
            "8. nnictl --help                 get help information about nnictl\n",
            "------------------------------------------------------------------------------------\n",
            "Command reference document https://nni.readthedocs.io/en/latest/Tutorial/Nnictl.html\n",
            "------------------------------------------------------------------------------------\n",
            "\u001b[0m\n",
            "\u001b[0m\u001b[0m"
          ]
        }
      ]
    },
    {
      "cell_type": "markdown",
      "source": [
        "### Arrêt du serveur"
      ],
      "metadata": {
        "id": "l8RdAsohAFXr"
      }
    },
    {
      "cell_type": "code",
      "source": [
        "! nnictl stop"
      ],
      "metadata": {
        "colab": {
          "base_uri": "https://localhost:8080/"
        },
        "id": "sHN3hatYAHUS",
        "outputId": "0ccc466a-90c4-4216-830d-2cf6e3486381"
      },
      "execution_count": null,
      "outputs": [
        {
          "output_type": "stream",
          "name": "stdout",
          "text": [
            "INFO: \u001b[0m \u001b[0mStopping experiment c2eFCxdD\u001b[0m\n",
            "\u001b[0mINFO: \u001b[0m \u001b[0mStop experiment success.\u001b[0m\n",
            "\u001b[0m\u001b[0m"
          ]
        }
      ]
    },
    {
      "cell_type": "markdown",
      "source": [
        "## Description brève du jeu de données Fashion-MNIST\n",
        "\n",
        "NNI propose un [tutoriel](https://github.com/microsoft/nni/tree/master/examples/trials/mnist-keras) permettant son utilisation pour la résolution du jeu de données MNIST initial (équivalent au jeu de données digits).\n",
        "\n",
        "## Utiliser NNI et Keras pour construire un réseau de neurones efficace pour le jeu de données Fashion-MNIST : \n",
        "\n",
        "décrire le réseau de neurones utilisé, les hyperparamètres à instancier, le protocole d'hyperparamétrage et les résultats obtenus"
      ],
      "metadata": {
        "id": "IZlPZrRO7zhs"
      }
    },
    {
      "cell_type": "markdown",
      "source": [
        "### Chargement des données mnist-fashion depuis tensorflow"
      ],
      "metadata": {
        "id": "GLj0g5OyBazb"
      }
    },
    {
      "cell_type": "markdown",
      "source": [
        "Avant de continuer s'assurer d'avoir installer les libraries suivantes et pour `matplotlib` la version `3.1.1` qui semble la seule fonctionner chez moi pour générer les graphiques.\n",
        "```\n",
        "matplotlib==3.1.1\n",
        "nni==2.5\n",
        "tensorflow==2.7.0\n",
        "```\n",
        "\n",
        "si projet importé depuis le lien github. `git clone https://github.com/uNouss/projetML; cd projetML`.\n",
        "\n",
        "L'installation se fait comme suit:\n",
        "\n",
        "1. création d'un nouvelle environnement virtuelle  nommé `.venv` (facultative): `python3 -m venv .venv`; suivi de son activation: `source .venv/bin/activate`.\n",
        "2. installation des libraries: `pip install -r requirements.txt` si un nouvelle environnement est crée sinon `python3 -m pip install -r requirements.txt`.\n",
        "\n",
        "3. une fois les installations faites lancer **NNI** comme suit: `nnictl create --config src/config.yml` et ouvrir le lien depuis en sortie de cette commande. Il lancera le script python situé dans `src/mnist-fashion.py` avec le fichier contenant l'espace de recherche `src/search_space.json` dans lequel sont défini les hyperparamètres."
      ],
      "metadata": {
        "id": "b3wEfT4X7zeb"
      }
    },
    {
      "cell_type": "code",
      "source": [
        "import matplotlib.pyplot as plt\n",
        "import tensorflow as tf\n",
        "import numpy as np"
      ],
      "metadata": {
        "id": "sX4lfGaE0s4O"
      },
      "execution_count": 5,
      "outputs": []
    },
    {
      "cell_type": "code",
      "source": [
        "fashion_mnist = tf.keras.datasets.fashion_mnist\n",
        "(X_train, Y_train), (X_test, Y_test) = fashion_mnist.load_data()\n",
        "\n",
        "fashion_mnist = tf.keras.datasets.fashion_mnist\n",
        "(images_train, targets_train), (images_test, targets_test) = tf.keras.datasets.fashion_mnist.load_data()"
      ],
      "metadata": {
        "id": "bVXfb_N_Aa2t"
      },
      "execution_count": null,
      "outputs": []
    },
    {
      "cell_type": "code",
      "source": [
        "targets_train, targets_test = targets_train.reshape(targets_train.shape[0], 1), targets_test.reshape(targets_test.shape[0], 1)"
      ],
      "metadata": {
        "id": "UxGkqvlyBGnS"
      },
      "execution_count": null,
      "outputs": []
    },
    {
      "cell_type": "code",
      "source": [
        "print('Fashion MNIST Dataset Shape:')\n",
        "print(f'images_train: {images_train.shape}')\n",
        "print(f'targets_train: {targets_train.shape}')\n",
        "print(f'images_test:  {images_test.shape}')\n",
        "print(f'targets_test:  {targets_test.shape}')"
      ],
      "metadata": {
        "colab": {
          "base_uri": "https://localhost:8080/"
        },
        "id": "EP-kdJdmBJLn",
        "outputId": "70153d66-c886-492d-f917-d1ba0fe31190"
      },
      "execution_count": null,
      "outputs": [
        {
          "output_type": "stream",
          "name": "stdout",
          "text": [
            "Fashion MNIST Dataset Shape:\n",
            "images_train: (60000, 28, 28)\n",
            "targets_train: (60000,)\n",
            "images_test:  (10000, 28, 28)\n",
            "targets_test:  (10000,)\n"
          ]
        }
      ]
    },
    {
      "cell_type": "markdown",
      "source": [
        "Nous avons un jeu de données composés d'images de tailles 28x28, labelisées. Il se décompose comme suit:\n",
        "- 60 000 en donnée d'entrainement et 10 000 en données de tests.\n",
        "- les images_train et images_test contiennent les images;\n",
        "- les targets_train et targets_test contiennent les labels des images.\n",
        "\n",
        "Il existe 10 labels différents qui sont:\n",
        "\n",
        "|Label|\tDescription|\n",
        "|:----|:-----------|\n",
        "|0\t  |T-shirt     |\n",
        "|1\t  |Pantalon     |\n",
        "|2\t  |Pull    |\n",
        "|3\t  |Robe       |\n",
        "|4\t  |Manteau        |\n",
        "|5\t  |Sandale      |\n",
        "|6\t  |Chemise       |\n",
        "|7\t  |Sneaker     |\n",
        "|8\t  |Sac        |\n",
        "|9\t  |Bottes  |\n",
        "\n"
      ],
      "metadata": {
        "id": "EKAkVyjoCmeA"
      }
    },
    {
      "cell_type": "markdown",
      "source": [
        "### Affichage de quelques images du jeu de données d'entrainement."
      ],
      "metadata": {
        "id": "NC-czPesFocl"
      }
    },
    {
      "cell_type": "code",
      "source": [
        "targets_names = [\"T-shirt\", \"Pantalon\", \"Pull\", \"Robe\", \"Manteau\", \"Sandale\", \"Chemise\", \"Sneaker\", \"Sac\", \"Bottes\"]\n",
        "\n",
        "plt.figure(figsize=(15, 10), dpi=100)\n",
        "\n",
        "for i in range(25):\n",
        "    plt.subplot(5, 5, i+1)\n",
        "    plt.xticks([])\n",
        "    plt.yticks([])\n",
        "    plt.grid(False)\n",
        "    plt.imshow(images_train[i], cmap=plt.cm.binary)\n",
        "    plt.xlabel(targets_names[targets_train[i]])\n",
        "plt.tight_layout()\n",
        "plt.show()"
      ],
      "metadata": {
        "colab": {
          "base_uri": "https://localhost:8080/",
          "height": 1000
        },
        "id": "HALE6JoQGhQw",
        "outputId": "5409e9f5-2b3f-4bbd-9ab1-ff48962a0646"
      },
      "execution_count": null,
      "outputs": [
        {
          "output_type": "display_data",
          "data": {
            "image/png": "[encoded data removed]",
            "text/plain": [
              "<Figure size 1500x1000 with 25 Axes>"
            ]
          },
          "metadata": {}
        }
      ]
    },
    {
      "cell_type": "markdown",
      "source": [
        "### Repartitions des catégories et fréquences d'apparitions"
      ],
      "metadata": {
        "id": "tw-jVIVCsTeK"
      }
    },
    {
      "cell_type": "code",
      "source": [
        "sizes = np.unique(targets_train, return_counts=True)[1]\n",
        "\n",
        "# Choix des couleurs\n",
        "colors = ['#fff100','#ff8c00','#e81123','#ec008c','#68217a', '#00188f', '#00bcf2','#00b294','#009e49','#bad80a']\n",
        "\n",
        "# Construction du diagramme et affichage des labels et des #fréquences en pourcentage\n",
        "fig1, ax1 = plt.subplots()\n",
        "ax1.pie(sizes, colors = colors, labels=targets_names, autopct='%1.1f%%', startangle=90)\n",
        "\n",
        "# Tracé du cercle au milieu\n",
        "centre_circle = plt.Circle((0,0),0.70,fc='white')\n",
        "fig = plt.gcf()\n",
        "fig.gca().add_artist(centre_circle)\n",
        "\n",
        "# Affichage du diagramme\n",
        "ax1.axis('equal')  \n",
        "plt.tight_layout()\n",
        "plt.show()"
      ],
      "metadata": {
        "colab": {
          "base_uri": "https://localhost:8080/",
          "height": 297
        },
        "id": "O7_zXjC50hkv",
        "outputId": "f4cd44ef-8236-4ce7-9784-53d7d1d11c36"
      },
      "execution_count": null,
      "outputs": [
        {
          "output_type": "display_data",
          "data": {
            "image/png": "[encoded data removed]",
            "text/plain": [
              "<Figure size 432x288 with 1 Axes>"
            ]
          },
          "metadata": {}
        }
      ]
    },
    {
      "cell_type": "markdown",
      "source": [
        "Nous constatons que les classes sont bien équilibrées. On peut donc utiliser l'`accuracy` comme mesure d'évaluation.\n",
        "\n",
        "\n"
      ],
      "metadata": {
        "id": "hM9m76UluVTt"
      }
    },
    {
      "cell_type": "markdown",
      "source": [
        "## Description du reseau de neurones\n",
        "\n",
        "\n"
      ],
      "metadata": {
        "id": "VjG5_WspuVOf"
      }
    },
    {
      "cell_type": "markdown",
      "source": [
        "![archi-reseau](https://wtf.roflcopter.fr/pics/5KbcRaep/fR5K7CrV)\n",
        "\n",
        "Figure: Architecture du réseau de neurone que nous avons essayé de reproduire (extrait du diapo)"
      ],
      "metadata": {
        "id": "uFPaprBd4S4z"
      }
    },
    {
      "cell_type": "markdown",
      "source": [
        "#### Construction du modèle\n",
        "Le code se trouve ici : https://github.com/uNouss/projetML\n",
        "\n",
        "Nous allons faire un réseau de neurones composé de couches simples.\n",
        "\n",
        " 1. Nous avons une première couche de convolution. Suivi d'une couche de pooling puis d'une autre couche de convolution. Ces trois premières couches vont permettre au reseau d'apprendre les caractéristiques intéressantes pour pouvoir discriminer les classes;\n",
        " 2. une couche qui s'occupe d'applatir les images issues de la convolution et de les transformer en un vecteur pour preparer aux calculs suivants;\n",
        " 3. une couche \"fully connected\" qui a comme entrée la sortie de la couche de l'étape precedente et comme sortie un vecteur de taille t neurones que nous ferons varier avec l'espace de recherche, suivi d'une fonction d'activation de type `relu`;\n",
        " 4. La dernière de même nature que la précedente va nous permettre d'avoir la classe à laquelle correspond une image. Donc en sortie on aura un vecteur de taille 10 correspondant aux probabilités que l'image appartienne à chacune des classes.\n",
        "\n",
        "Nous ferons aussi varier la méthode utilisée pour optimiser le reseau ( descente du gradient, adam)."
      ],
      "metadata": {
        "id": "DvIZ1sxwu2_i"
      }
    },
    {
      "cell_type": "markdown",
      "source": [
        "#### Espace de recherche\n",
        "\n",
        "Nous avons défini des hyperparamètres pour notre modèle. Nous faisons varier la méthode d'optimisation, le coefficient d'apprentissage, et le nombre de neurones de la couche dense.\n",
        "\n",
        "```json\n",
        "{\n",
        "    \"optimizer\": {\"_type\": \"choice\",\"_value\": [\"SGD\", \"Adam\"]},\n",
        "    \"learning_rate\": {\"_type\": \"quniform\",\"_value\": [0.001, 0.05, 0.01]},\n",
        "    \"nb_nodes\": {\"_type\": \"choice\", \"_value\": [64, 128, 256, 512]},\n",
        "}\n",
        "```\n",
        "\n",
        "Nous avons choisi de ne pas manipuler d'autres hyperparametres compte tenu du fait que nos machines ne tiennent pas la charge.\n",
        "\n",
        "\n"
      ],
      "metadata": {
        "id": "cDTGmqfvACj0"
      }
    },
    {
      "cell_type": "markdown",
      "source": [
        "#### Modèle obtenu\n",
        "\n",
        "Le modèle ayant la meilleure accuracy (0.9086) est celui qui utilise les hyperparamètres suivants: \n",
        "\n",
        "  \n",
        "\n",
        "*   optimizer : SGD\n",
        "*   learning_rate : 0.03 \n",
        "*   nb_nodes : 128\n",
        "\n",
        "Nous avons perdu la connexion au serveur avant que les calculs soient terminés.\n"
      ],
      "metadata": {
        "id": "SF7vIbpAAoaQ"
      }
    }
  ]
}